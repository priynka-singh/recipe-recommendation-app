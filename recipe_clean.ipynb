{
 "cells": [
  {
   "cell_type": "code",
   "execution_count": 1,
   "id": "d7d7f5ab",
   "metadata": {},
   "outputs": [],
   "source": [
    "import pandas as pd"
   ]
  },
  {
   "cell_type": "code",
   "execution_count": 2,
   "id": "c195ac95",
   "metadata": {},
   "outputs": [],
   "source": [
    "data = pd.read_csv(\"recipe.csv\")"
   ]
  },
  {
   "cell_type": "code",
   "execution_count": 4,
   "id": "7480c419",
   "metadata": {},
   "outputs": [
    {
     "data": {
      "text/plain": [
       "1132367"
      ]
     },
     "execution_count": 4,
     "metadata": {},
     "output_type": "execute_result"
    }
   ],
   "source": [
    "number_of_rows = len(data)\n",
    "number_of_rows"
   ]
  },
  {
   "cell_type": "code",
   "execution_count": 6,
   "id": "a9b89791",
   "metadata": {},
   "outputs": [
    {
     "name": "stdout",
     "output_type": "stream",
     "text": [
      "name             1\n",
      "recipe_id        0\n",
      "minutes          0\n",
      "tags             0\n",
      "nutrition        0\n",
      "n_steps          0\n",
      "steps            0\n",
      "ingredients      0\n",
      "n_ingredients    0\n",
      "rating           0\n",
      "dtype: int64\n"
     ]
    }
   ],
   "source": [
    "null_values_per_column = data.isnull().sum()\n",
    "print(null_values_per_column)"
   ]
  },
  {
   "cell_type": "code",
   "execution_count": 9,
   "id": "09ab584c",
   "metadata": {},
   "outputs": [
    {
     "name": "stdout",
     "output_type": "stream",
     "text": [
      "     name  recipe_id  minutes  \\\n",
      "5293  NaN     368257       10   \n",
      "\n",
      "                                                   tags  \\\n",
      "5293  ['15-minutes-or-less', 'time-to-make', 'course...   \n",
      "\n",
      "                                          nutrition  n_steps  \\\n",
      "5293  [1596.2, 249.0, 155.0, 0.0, 2.0, 112.0, 14.0]        6   \n",
      "\n",
      "                                                  steps  \\\n",
      "5293  ['in a bowl , combine ingredients except for o...   \n",
      "\n",
      "                                            ingredients  n_ingredients  rating  \n",
      "5293  ['lemon', 'honey', 'horseradish mustard', 'gar...             10       0  \n"
     ]
    }
   ],
   "source": [
    "rows_with_null = data[data.isnull().any(axis=1)]\n",
    "print(rows_with_null)"
   ]
  },
  {
   "cell_type": "code",
   "execution_count": 10,
   "id": "ec30c43e",
   "metadata": {},
   "outputs": [
    {
     "name": "stdout",
     "output_type": "stream",
     "text": [
      "                                               name  recipe_id  minutes  \\\n",
      "1        arriba   baked winter squash mexican style     137739       55   \n",
      "2        arriba   baked winter squash mexican style     137739       55   \n",
      "6                  a bit different  breakfast pizza      31490       30   \n",
      "12                          apple a day  milk shake       5289        0   \n",
      "16                         bananas 4 ice cream  pie      70971      180   \n",
      "...                                             ...        ...      ...   \n",
      "1132356                                 zydeco soup     486161       60   \n",
      "1132359                   zydeco ya ya deviled eggs     308080       40   \n",
      "1132360                   zydeco ya ya deviled eggs     308080       40   \n",
      "1132361                   zydeco ya ya deviled eggs     308080       40   \n",
      "1132362                   zydeco ya ya deviled eggs     308080       40   \n",
      "\n",
      "                                                      tags  \\\n",
      "1        ['60-minutes-or-less', 'time-to-make', 'course...   \n",
      "2        ['60-minutes-or-less', 'time-to-make', 'course...   \n",
      "6        ['30-minutes-or-less', 'time-to-make', 'course...   \n",
      "12       ['15-minutes-or-less', 'time-to-make', 'course...   \n",
      "16       ['weeknight', 'time-to-make', 'course', 'main-...   \n",
      "...                                                    ...   \n",
      "1132356  ['ham', '60-minutes-or-less', 'time-to-make', ...   \n",
      "1132359  ['60-minutes-or-less', 'time-to-make', 'course...   \n",
      "1132360  ['60-minutes-or-less', 'time-to-make', 'course...   \n",
      "1132361  ['60-minutes-or-less', 'time-to-make', 'course...   \n",
      "1132362  ['60-minutes-or-less', 'time-to-make', 'course...   \n",
      "\n",
      "                                                 nutrition  n_steps  \\\n",
      "1                    [51.5, 0.0, 13.0, 0.0, 2.0, 0.0, 4.0]       11   \n",
      "2                    [51.5, 0.0, 13.0, 0.0, 2.0, 0.0, 4.0]       11   \n",
      "6                [173.4, 18.0, 0.0, 17.0, 22.0, 35.0, 1.0]        9   \n",
      "12                [160.2, 10.0, 55.0, 3.0, 9.0, 20.0, 7.0]        4   \n",
      "16       [4270.8, 254.0, 1306.0, 111.0, 127.0, 431.0, 2...        8   \n",
      "...                                                    ...      ...   \n",
      "1132356        [415.2, 26.0, 34.0, 26.0, 44.0, 21.0, 15.0]        7   \n",
      "1132359               [59.2, 6.0, 2.0, 3.0, 6.0, 5.0, 0.0]        7   \n",
      "1132360               [59.2, 6.0, 2.0, 3.0, 6.0, 5.0, 0.0]        7   \n",
      "1132361               [59.2, 6.0, 2.0, 3.0, 6.0, 5.0, 0.0]        7   \n",
      "1132362               [59.2, 6.0, 2.0, 3.0, 6.0, 5.0, 0.0]        7   \n",
      "\n",
      "                                                     steps  \\\n",
      "1        ['make a choice and proceed with recipe', 'dep...   \n",
      "2        ['make a choice and proceed with recipe', 'dep...   \n",
      "6        ['preheat oven to 425 degrees f', 'press dough...   \n",
      "12       ['combine ingredients in blender', 'cover and ...   \n",
      "16       ['crumble cookies into a 9-inch pie plate , or...   \n",
      "...                                                    ...   \n",
      "1132356  ['heat oil in a 4-quart dutch oven', 'add cele...   \n",
      "1132359  ['in a bowl , combine the mashed yolks and may...   \n",
      "1132360  ['in a bowl , combine the mashed yolks and may...   \n",
      "1132361  ['in a bowl , combine the mashed yolks and may...   \n",
      "1132362  ['in a bowl , combine the mashed yolks and may...   \n",
      "\n",
      "                                               ingredients  n_ingredients  \\\n",
      "1        ['winter squash', 'mexican seasoning', 'mixed ...              7   \n",
      "2        ['winter squash', 'mexican seasoning', 'mixed ...              7   \n",
      "6        ['prepared pizza crust', 'sausage patty', 'egg...              6   \n",
      "12       ['milk', 'vanilla ice cream', 'frozen apple ju...              4   \n",
      "16       ['chocolate sandwich style cookies', 'chocolat...              6   \n",
      "...                                                    ...            ...   \n",
      "1132356  ['celery', 'onion', 'green sweet pepper', 'gar...             22   \n",
      "1132359  ['hard-cooked eggs', 'mayonnaise', 'dijon must...              8   \n",
      "1132360  ['hard-cooked eggs', 'mayonnaise', 'dijon must...              8   \n",
      "1132361  ['hard-cooked eggs', 'mayonnaise', 'dijon must...              8   \n",
      "1132362  ['hard-cooked eggs', 'mayonnaise', 'dijon must...              8   \n",
      "\n",
      "         rating  \n",
      "1             5  \n",
      "2             5  \n",
      "6             5  \n",
      "12            5  \n",
      "16            5  \n",
      "...         ...  \n",
      "1132356       5  \n",
      "1132359       5  \n",
      "1132360       5  \n",
      "1132361       5  \n",
      "1132362       5  \n",
      "\n",
      "[764680 rows x 10 columns]\n"
     ]
    }
   ],
   "source": [
    "# find duplicate rows\n",
    "duplicates = data[data.duplicated()]\n",
    "print(duplicates)"
   ]
  },
  {
   "cell_type": "code",
   "execution_count": 11,
   "id": "8338978c",
   "metadata": {},
   "outputs": [
    {
     "name": "stdout",
     "output_type": "stream",
     "text": [
      "                                                 name  recipe_id  minutes  \\\n",
      "1          arriba   baked winter squash mexican style     137739       55   \n",
      "2          arriba   baked winter squash mexican style     137739       55   \n",
      "4                    a bit different  breakfast pizza      31490       30   \n",
      "5                    a bit different  breakfast pizza      31490       30   \n",
      "6                    a bit different  breakfast pizza      31490       30   \n",
      "...                                               ...        ...      ...   \n",
      "1132360                     zydeco ya ya deviled eggs     308080       40   \n",
      "1132361                     zydeco ya ya deviled eggs     308080       40   \n",
      "1132362                     zydeco ya ya deviled eggs     308080       40   \n",
      "1132365  cookies by design   sugar shortbread cookies     298509       20   \n",
      "1132366  cookies by design   sugar shortbread cookies     298509       20   \n",
      "\n",
      "                                                      tags  \\\n",
      "1        ['60-minutes-or-less', 'time-to-make', 'course...   \n",
      "2        ['60-minutes-or-less', 'time-to-make', 'course...   \n",
      "4        ['30-minutes-or-less', 'time-to-make', 'course...   \n",
      "5        ['30-minutes-or-less', 'time-to-make', 'course...   \n",
      "6        ['30-minutes-or-less', 'time-to-make', 'course...   \n",
      "...                                                    ...   \n",
      "1132360  ['60-minutes-or-less', 'time-to-make', 'course...   \n",
      "1132361  ['60-minutes-or-less', 'time-to-make', 'course...   \n",
      "1132362  ['60-minutes-or-less', 'time-to-make', 'course...   \n",
      "1132365  ['30-minutes-or-less', 'time-to-make', 'course...   \n",
      "1132366  ['30-minutes-or-less', 'time-to-make', 'course...   \n",
      "\n",
      "                                         nutrition  n_steps  \\\n",
      "1            [51.5, 0.0, 13.0, 0.0, 2.0, 0.0, 4.0]       11   \n",
      "2            [51.5, 0.0, 13.0, 0.0, 2.0, 0.0, 4.0]       11   \n",
      "4        [173.4, 18.0, 0.0, 17.0, 22.0, 35.0, 1.0]        9   \n",
      "5        [173.4, 18.0, 0.0, 17.0, 22.0, 35.0, 1.0]        9   \n",
      "6        [173.4, 18.0, 0.0, 17.0, 22.0, 35.0, 1.0]        9   \n",
      "...                                            ...      ...   \n",
      "1132360       [59.2, 6.0, 2.0, 3.0, 6.0, 5.0, 0.0]        7   \n",
      "1132361       [59.2, 6.0, 2.0, 3.0, 6.0, 5.0, 0.0]        7   \n",
      "1132362       [59.2, 6.0, 2.0, 3.0, 6.0, 5.0, 0.0]        7   \n",
      "1132365   [174.9, 14.0, 33.0, 4.0, 4.0, 11.0, 6.0]        5   \n",
      "1132366   [174.9, 14.0, 33.0, 4.0, 4.0, 11.0, 6.0]        5   \n",
      "\n",
      "                                                     steps  \\\n",
      "1        ['make a choice and proceed with recipe', 'dep...   \n",
      "2        ['make a choice and proceed with recipe', 'dep...   \n",
      "4        ['preheat oven to 425 degrees f', 'press dough...   \n",
      "5        ['preheat oven to 425 degrees f', 'press dough...   \n",
      "6        ['preheat oven to 425 degrees f', 'press dough...   \n",
      "...                                                    ...   \n",
      "1132360  ['in a bowl , combine the mashed yolks and may...   \n",
      "1132361  ['in a bowl , combine the mashed yolks and may...   \n",
      "1132362  ['in a bowl , combine the mashed yolks and may...   \n",
      "1132365  ['whip sugar and shortening in a large bowl , ...   \n",
      "1132366  ['whip sugar and shortening in a large bowl , ...   \n",
      "\n",
      "                                               ingredients  n_ingredients  \\\n",
      "1        ['winter squash', 'mexican seasoning', 'mixed ...              7   \n",
      "2        ['winter squash', 'mexican seasoning', 'mixed ...              7   \n",
      "4        ['prepared pizza crust', 'sausage patty', 'egg...              6   \n",
      "5        ['prepared pizza crust', 'sausage patty', 'egg...              6   \n",
      "6        ['prepared pizza crust', 'sausage patty', 'egg...              6   \n",
      "...                                                    ...            ...   \n",
      "1132360  ['hard-cooked eggs', 'mayonnaise', 'dijon must...              8   \n",
      "1132361  ['hard-cooked eggs', 'mayonnaise', 'dijon must...              8   \n",
      "1132362  ['hard-cooked eggs', 'mayonnaise', 'dijon must...              8   \n",
      "1132365  ['granulated sugar', 'shortening', 'eggs', 'fl...              7   \n",
      "1132366  ['granulated sugar', 'shortening', 'eggs', 'fl...              7   \n",
      "\n",
      "         rating  \n",
      "1             5  \n",
      "2             5  \n",
      "4             5  \n",
      "5             4  \n",
      "6             5  \n",
      "...         ...  \n",
      "1132360       5  \n",
      "1132361       5  \n",
      "1132362       5  \n",
      "1132365       5  \n",
      "1132366       0  \n",
      "\n",
      "[900730 rows x 10 columns]\n"
     ]
    }
   ],
   "source": [
    "duplicates_specific_columns = data[data.duplicated(subset=['name', 'recipe_id'])]\n",
    "print(duplicates_specific_columns)"
   ]
  },
  {
   "cell_type": "code",
   "execution_count": 12,
   "id": "138ca3ee",
   "metadata": {},
   "outputs": [],
   "source": [
    "data_cleaned = data.drop_duplicates(subset=['name', 'recipe_id'], keep='first')"
   ]
  },
  {
   "cell_type": "code",
   "execution_count": 13,
   "id": "c7a70ed4",
   "metadata": {},
   "outputs": [
    {
     "data": {
      "text/plain": [
       "231637"
      ]
     },
     "execution_count": 13,
     "metadata": {},
     "output_type": "execute_result"
    }
   ],
   "source": [
    "len(data_cleaned)"
   ]
  },
  {
   "cell_type": "code",
   "execution_count": 14,
   "id": "db77a953",
   "metadata": {},
   "outputs": [
    {
     "name": "stdout",
     "output_type": "stream",
     "text": [
      "Empty DataFrame\n",
      "Columns: [name, recipe_id, minutes, tags, nutrition, n_steps, steps, ingredients, n_ingredients, rating]\n",
      "Index: []\n"
     ]
    }
   ],
   "source": [
    "cleaned_duplicate = data_cleaned[data_cleaned.duplicated()]\n",
    "print(cleaned_duplicate)"
   ]
  },
  {
   "cell_type": "code",
   "execution_count": 15,
   "id": "72d8915c",
   "metadata": {},
   "outputs": [
    {
     "name": "stdout",
     "output_type": "stream",
     "text": [
      "name             0\n",
      "recipe_id        0\n",
      "minutes          0\n",
      "tags             0\n",
      "nutrition        0\n",
      "n_steps          0\n",
      "steps            0\n",
      "ingredients      0\n",
      "n_ingredients    0\n",
      "rating           0\n",
      "dtype: int64\n"
     ]
    }
   ],
   "source": [
    "#drop null row\n",
    "clean = data_cleaned.dropna()\n",
    "new_null = clean.isnull().sum()\n",
    "print(new_null)"
   ]
  },
  {
   "cell_type": "code",
   "execution_count": 16,
   "id": "3a6274a6",
   "metadata": {},
   "outputs": [
    {
     "name": "stdout",
     "output_type": "stream",
     "text": [
      "                                                 name  recipe_id  minutes  \\\n",
      "0          arriba   baked winter squash mexican style     137739       55   \n",
      "3                    a bit different  breakfast pizza      31490       30   \n",
      "7                           all in the kitchen  chili     112140      130   \n",
      "8                                  alouette  potatoes      59389       45   \n",
      "10                 amish  tomato ketchup  for canning      44061      190   \n",
      "...                                               ...        ...      ...   \n",
      "1132351                                   zydeco soup     486161       60   \n",
      "1132357                              zydeco spice mix     493372        5   \n",
      "1132358                     zydeco ya ya deviled eggs     308080       40   \n",
      "1132363        cookies by design   cookies on a stick     298512       29   \n",
      "1132364  cookies by design   sugar shortbread cookies     298509       20   \n",
      "\n",
      "                                                      tags  \\\n",
      "0        ['60-minutes-or-less', 'time-to-make', 'course...   \n",
      "3        ['30-minutes-or-less', 'time-to-make', 'course...   \n",
      "7        ['time-to-make', 'course', 'preparation', 'mai...   \n",
      "8        ['60-minutes-or-less', 'time-to-make', 'course...   \n",
      "10       ['weeknight', 'time-to-make', 'course', 'main-...   \n",
      "...                                                    ...   \n",
      "1132351  ['ham', '60-minutes-or-less', 'time-to-make', ...   \n",
      "1132357  ['15-minutes-or-less', 'time-to-make', 'course...   \n",
      "1132358  ['60-minutes-or-less', 'time-to-make', 'course...   \n",
      "1132363  ['30-minutes-or-less', 'time-to-make', 'course...   \n",
      "1132364  ['30-minutes-or-less', 'time-to-make', 'course...   \n",
      "\n",
      "                                           nutrition  n_steps  \\\n",
      "0              [51.5, 0.0, 13.0, 0.0, 2.0, 0.0, 4.0]       11   \n",
      "3          [173.4, 18.0, 0.0, 17.0, 22.0, 35.0, 1.0]        9   \n",
      "7         [269.8, 22.0, 32.0, 48.0, 39.0, 27.0, 5.0]        6   \n",
      "8          [368.1, 17.0, 10.0, 2.0, 14.0, 8.0, 20.0]       11   \n",
      "10         [352.9, 1.0, 337.0, 23.0, 3.0, 0.0, 28.0]        5   \n",
      "...                                              ...      ...   \n",
      "1132351  [415.2, 26.0, 34.0, 26.0, 44.0, 21.0, 15.0]        7   \n",
      "1132357        [14.8, 0.0, 2.0, 58.0, 1.0, 0.0, 1.0]        1   \n",
      "1132358         [59.2, 6.0, 2.0, 3.0, 6.0, 5.0, 0.0]        7   \n",
      "1132363    [188.0, 11.0, 57.0, 11.0, 7.0, 21.0, 9.0]        9   \n",
      "1132364     [174.9, 14.0, 33.0, 4.0, 4.0, 11.0, 6.0]        5   \n",
      "\n",
      "                                                     steps  \\\n",
      "0        ['make a choice and proceed with recipe', 'dep...   \n",
      "3        ['preheat oven to 425 degrees f', 'press dough...   \n",
      "7        ['brown ground beef in large pot', 'add choppe...   \n",
      "8        ['place potatoes in a large pot of lightly sal...   \n",
      "10       ['mix all ingredients& boil for 2 1 / 2 hours ...   \n",
      "...                                                    ...   \n",
      "1132351  ['heat oil in a 4-quart dutch oven', 'add cele...   \n",
      "1132357        ['mix all ingredients together thoroughly']   \n",
      "1132358  ['in a bowl , combine the mashed yolks and may...   \n",
      "1132363  ['place melted butter in a large mixing bowl a...   \n",
      "1132364  ['whip sugar and shortening in a large bowl , ...   \n",
      "\n",
      "                                               ingredients  n_ingredients  \\\n",
      "0        ['winter squash', 'mexican seasoning', 'mixed ...              7   \n",
      "3        ['prepared pizza crust', 'sausage patty', 'egg...              6   \n",
      "7        ['ground beef', 'yellow onions', 'diced tomato...             13   \n",
      "8        ['spreadable cheese with garlic and herbs', 'n...             11   \n",
      "10       ['tomato juice', 'apple cider vinegar', 'sugar...              8   \n",
      "...                                                    ...            ...   \n",
      "1132351  ['celery', 'onion', 'green sweet pepper', 'gar...             22   \n",
      "1132357  ['paprika', 'salt', 'garlic powder', 'onion po...             13   \n",
      "1132358  ['hard-cooked eggs', 'mayonnaise', 'dijon must...              8   \n",
      "1132363  ['butter', 'eagle brand condensed milk', 'ligh...             10   \n",
      "1132364  ['granulated sugar', 'shortening', 'eggs', 'fl...              7   \n",
      "\n",
      "         rating  \n",
      "0             5  \n",
      "3             0  \n",
      "7             4  \n",
      "8             4  \n",
      "10            5  \n",
      "...         ...  \n",
      "1132351       5  \n",
      "1132357       5  \n",
      "1132358       5  \n",
      "1132363       1  \n",
      "1132364       1  \n",
      "\n",
      "[231636 rows x 10 columns]\n"
     ]
    }
   ],
   "source": [
    "print(clean)"
   ]
  },
  {
   "cell_type": "code",
   "execution_count": null,
   "id": "60fc2f37",
   "metadata": {},
   "outputs": [],
   "source": []
  }
 ],
 "metadata": {
  "kernelspec": {
   "display_name": "Python 3 (ipykernel)",
   "language": "python",
   "name": "python3"
  },
  "language_info": {
   "codemirror_mode": {
    "name": "ipython",
    "version": 3
   },
   "file_extension": ".py",
   "mimetype": "text/x-python",
   "name": "python",
   "nbconvert_exporter": "python",
   "pygments_lexer": "ipython3",
   "version": "3.9.13"
  }
 },
 "nbformat": 4,
 "nbformat_minor": 5
}
