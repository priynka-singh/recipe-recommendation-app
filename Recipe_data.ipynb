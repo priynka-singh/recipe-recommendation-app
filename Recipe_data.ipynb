{
 "cells": [
  {
   "cell_type": "code",
   "execution_count": 18,
   "id": "b6f33185",
   "metadata": {},
   "outputs": [],
   "source": [
    "import pandas as pd"
   ]
  },
  {
   "cell_type": "code",
   "execution_count": 19,
   "id": "d41a5f61",
   "metadata": {},
   "outputs": [
    {
     "name": "stdout",
     "output_type": "stream",
     "text": [
      "['name', 'id', 'minutes', 'contributor_id', 'submitted', 'tags', 'nutrition', 'n_steps', 'steps', 'description', 'ingredients', 'n_ingredients']\n"
     ]
    }
   ],
   "source": [
    "#read\n",
    "df1 = pd.read_csv('RAW_recipes.csv')\n",
    "\n",
    "# print\n",
    "print(df1.columns.tolist())"
   ]
  },
  {
   "cell_type": "code",
   "execution_count": 20,
   "id": "030f4584",
   "metadata": {},
   "outputs": [
    {
     "name": "stdout",
     "output_type": "stream",
     "text": [
      "['user_id', 'id', 'date', 'rating', 'review']\n"
     ]
    }
   ],
   "source": [
    "df2 = pd.read_csv('RAW_interactions.csv')\n",
    "df2.rename(columns={'recipe_id': 'id'}, inplace=True)\n",
    "print(df2.columns.tolist())"
   ]
  },
  {
   "cell_type": "code",
   "execution_count": 21,
   "id": "2a169715",
   "metadata": {},
   "outputs": [],
   "source": [
    "#merge \n",
    "merged_df = pd.merge(df1, df2, on='id', how='inner')"
   ]
  },
  {
   "cell_type": "code",
   "execution_count": 22,
   "id": "b6c4a6a5",
   "metadata": {},
   "outputs": [
    {
     "name": "stdout",
     "output_type": "stream",
     "text": [
      "Index(['name', 'recipe_id', 'minutes', 'contributor_id', 'submitted', 'tags',\n",
      "       'nutrition', 'n_steps', 'steps', 'description', 'ingredients',\n",
      "       'n_ingredients', 'user_id', 'date', 'rating', 'review'],\n",
      "      dtype='object')\n"
     ]
    }
   ],
   "source": [
    "#rename id to recipe_id for readability purposes\n",
    "merged_df.rename(columns={'id': 'recipe_id'}, inplace=True)\n",
    "print(merged_df.columns)"
   ]
  },
  {
   "cell_type": "code",
   "execution_count": 23,
   "id": "c6489ec6",
   "metadata": {},
   "outputs": [
    {
     "name": "stdout",
     "output_type": "stream",
     "text": [
      "Index(['name', 'recipe_id', 'minutes', 'tags', 'nutrition', 'n_steps', 'steps',\n",
      "       'ingredients', 'n_ingredients', 'rating'],\n",
      "      dtype='object')\n"
     ]
    }
   ],
   "source": [
    "new_merged = merged_df.drop(['contributor_id', 'submitted', 'user_id', 'date', 'review', 'description'], axis=1)\n",
    "print(new_merged.columns)"
   ]
  },
  {
   "cell_type": "code",
   "execution_count": 24,
   "id": "ac6ead15",
   "metadata": {},
   "outputs": [
    {
     "name": "stdout",
     "output_type": "stream",
     "text": [
      "                                                 name  recipe_id  minutes  \\\n",
      "0          arriba   baked winter squash mexican style     137739       55   \n",
      "1          arriba   baked winter squash mexican style     137739       55   \n",
      "2          arriba   baked winter squash mexican style     137739       55   \n",
      "3                    a bit different  breakfast pizza      31490       30   \n",
      "4                    a bit different  breakfast pizza      31490       30   \n",
      "...                                               ...        ...      ...   \n",
      "1132362                     zydeco ya ya deviled eggs     308080       40   \n",
      "1132363        cookies by design   cookies on a stick     298512       29   \n",
      "1132364  cookies by design   sugar shortbread cookies     298509       20   \n",
      "1132365  cookies by design   sugar shortbread cookies     298509       20   \n",
      "1132366  cookies by design   sugar shortbread cookies     298509       20   \n",
      "\n",
      "                                                      tags  \\\n",
      "0        ['60-minutes-or-less', 'time-to-make', 'course...   \n",
      "1        ['60-minutes-or-less', 'time-to-make', 'course...   \n",
      "2        ['60-minutes-or-less', 'time-to-make', 'course...   \n",
      "3        ['30-minutes-or-less', 'time-to-make', 'course...   \n",
      "4        ['30-minutes-or-less', 'time-to-make', 'course...   \n",
      "...                                                    ...   \n",
      "1132362  ['60-minutes-or-less', 'time-to-make', 'course...   \n",
      "1132363  ['30-minutes-or-less', 'time-to-make', 'course...   \n",
      "1132364  ['30-minutes-or-less', 'time-to-make', 'course...   \n",
      "1132365  ['30-minutes-or-less', 'time-to-make', 'course...   \n",
      "1132366  ['30-minutes-or-less', 'time-to-make', 'course...   \n",
      "\n",
      "                                         nutrition  n_steps  \\\n",
      "0            [51.5, 0.0, 13.0, 0.0, 2.0, 0.0, 4.0]       11   \n",
      "1            [51.5, 0.0, 13.0, 0.0, 2.0, 0.0, 4.0]       11   \n",
      "2            [51.5, 0.0, 13.0, 0.0, 2.0, 0.0, 4.0]       11   \n",
      "3        [173.4, 18.0, 0.0, 17.0, 22.0, 35.0, 1.0]        9   \n",
      "4        [173.4, 18.0, 0.0, 17.0, 22.0, 35.0, 1.0]        9   \n",
      "...                                            ...      ...   \n",
      "1132362       [59.2, 6.0, 2.0, 3.0, 6.0, 5.0, 0.0]        7   \n",
      "1132363  [188.0, 11.0, 57.0, 11.0, 7.0, 21.0, 9.0]        9   \n",
      "1132364   [174.9, 14.0, 33.0, 4.0, 4.0, 11.0, 6.0]        5   \n",
      "1132365   [174.9, 14.0, 33.0, 4.0, 4.0, 11.0, 6.0]        5   \n",
      "1132366   [174.9, 14.0, 33.0, 4.0, 4.0, 11.0, 6.0]        5   \n",
      "\n",
      "                                                     steps  \\\n",
      "0        ['make a choice and proceed with recipe', 'dep...   \n",
      "1        ['make a choice and proceed with recipe', 'dep...   \n",
      "2        ['make a choice and proceed with recipe', 'dep...   \n",
      "3        ['preheat oven to 425 degrees f', 'press dough...   \n",
      "4        ['preheat oven to 425 degrees f', 'press dough...   \n",
      "...                                                    ...   \n",
      "1132362  ['in a bowl , combine the mashed yolks and may...   \n",
      "1132363  ['place melted butter in a large mixing bowl a...   \n",
      "1132364  ['whip sugar and shortening in a large bowl , ...   \n",
      "1132365  ['whip sugar and shortening in a large bowl , ...   \n",
      "1132366  ['whip sugar and shortening in a large bowl , ...   \n",
      "\n",
      "                                               ingredients  n_ingredients  \\\n",
      "0        ['winter squash', 'mexican seasoning', 'mixed ...              7   \n",
      "1        ['winter squash', 'mexican seasoning', 'mixed ...              7   \n",
      "2        ['winter squash', 'mexican seasoning', 'mixed ...              7   \n",
      "3        ['prepared pizza crust', 'sausage patty', 'egg...              6   \n",
      "4        ['prepared pizza crust', 'sausage patty', 'egg...              6   \n",
      "...                                                    ...            ...   \n",
      "1132362  ['hard-cooked eggs', 'mayonnaise', 'dijon must...              8   \n",
      "1132363  ['butter', 'eagle brand condensed milk', 'ligh...             10   \n",
      "1132364  ['granulated sugar', 'shortening', 'eggs', 'fl...              7   \n",
      "1132365  ['granulated sugar', 'shortening', 'eggs', 'fl...              7   \n",
      "1132366  ['granulated sugar', 'shortening', 'eggs', 'fl...              7   \n",
      "\n",
      "         rating  \n",
      "0             5  \n",
      "1             5  \n",
      "2             5  \n",
      "3             0  \n",
      "4             5  \n",
      "...         ...  \n",
      "1132362       5  \n",
      "1132363       1  \n",
      "1132364       1  \n",
      "1132365       5  \n",
      "1132366       0  \n",
      "\n",
      "[1132367 rows x 10 columns]\n"
     ]
    }
   ],
   "source": [
    "print(new_merged)"
   ]
  },
  {
   "cell_type": "code",
   "execution_count": 25,
   "id": "a08b747b",
   "metadata": {},
   "outputs": [],
   "source": [
    "new_merged.to_csv('recipe.csv', index=False)"
   ]
  },
  {
   "cell_type": "code",
   "execution_count": null,
   "id": "6ec7ffd6",
   "metadata": {},
   "outputs": [],
   "source": []
  }
 ],
 "metadata": {
  "kernelspec": {
   "display_name": "Python 3 (ipykernel)",
   "language": "python",
   "name": "python3"
  },
  "language_info": {
   "codemirror_mode": {
    "name": "ipython",
    "version": 3
   },
   "file_extension": ".py",
   "mimetype": "text/x-python",
   "name": "python",
   "nbconvert_exporter": "python",
   "pygments_lexer": "ipython3",
   "version": "3.9.13"
  }
 },
 "nbformat": 4,
 "nbformat_minor": 5
}
